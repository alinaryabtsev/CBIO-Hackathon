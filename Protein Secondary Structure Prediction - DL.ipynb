{
 "cells": [
  {
   "cell_type": "code",
   "execution_count": 2,
   "id": "49c2935e",
   "metadata": {},
   "outputs": [],
   "source": [
    "import pandas as pd"
   ]
  },
  {
   "cell_type": "code",
   "execution_count": 6,
   "id": "3f980c12",
   "metadata": {},
   "outputs": [
    {
     "data": {
      "text/html": [
       "<div>\n",
       "<style scoped>\n",
       "    .dataframe tbody tr th:only-of-type {\n",
       "        vertical-align: middle;\n",
       "    }\n",
       "\n",
       "    .dataframe tbody tr th {\n",
       "        vertical-align: top;\n",
       "    }\n",
       "\n",
       "    .dataframe thead th {\n",
       "        text-align: right;\n",
       "    }\n",
       "</style>\n",
       "<table border=\"1\" class=\"dataframe\">\n",
       "  <thead>\n",
       "    <tr style=\"text-align: right;\">\n",
       "      <th></th>\n",
       "      <th>pdb_id</th>\n",
       "      <th>chain_code</th>\n",
       "      <th>seq</th>\n",
       "      <th>sst8</th>\n",
       "      <th>sst3</th>\n",
       "      <th>len</th>\n",
       "      <th>has_nonstd_aa</th>\n",
       "    </tr>\n",
       "  </thead>\n",
       "  <tbody>\n",
       "    <tr>\n",
       "      <th>0</th>\n",
       "      <td>4JI3</td>\n",
       "      <td>G</td>\n",
       "      <td>MARRRRAEVRQLQPDLVYGDVLVTAFINKIMRDGKKNLAARIFYDA...</td>\n",
       "      <td>CCCSSCCCCCCCCCCSSSCCHHHHHHHHHHCBTTBCHHHHHHHHHH...</td>\n",
       "      <td>CCCCCCCCCCCCCCCCCCCCHHHHHHHHHHCECCECHHHHHHHHHH...</td>\n",
       "      <td>156</td>\n",
       "      <td>False</td>\n",
       "    </tr>\n",
       "    <tr>\n",
       "      <th>1</th>\n",
       "      <td>2QLP</td>\n",
       "      <td>F</td>\n",
       "      <td>MLLSDRDLRAEISSGRLGIDPFDDTLVQPSSIDVRLDCLFRVFNNT...</td>\n",
       "      <td>CBCCHHHHHHHHHTTSSEEESCCGGGEETTEEEEEBCSCEEEECTT...</td>\n",
       "      <td>CECCHHHHHHHHHCCCCEEECCCHHHEECCEEEEEECCCEEEECCC...</td>\n",
       "      <td>161</td>\n",
       "      <td>False</td>\n",
       "    </tr>\n",
       "    <tr>\n",
       "      <th>2</th>\n",
       "      <td>1E7V</td>\n",
       "      <td>A</td>\n",
       "      <td>AASEETLAFQRQLNALIGYDVTDVSNVHDDELEFTRRRLVTPRMAE...</td>\n",
       "      <td>CCCSHHHHHHHHHHHHHTSCTTCCSSCSSSHHHHHHHHHHHHHHHH...</td>\n",
       "      <td>CCCCHHHHHHHHHHHHHCCCCCCCCCCCCCHHHHHHHHHHHHHHHH...</td>\n",
       "      <td>961</td>\n",
       "      <td>False</td>\n",
       "    </tr>\n",
       "    <tr>\n",
       "      <th>3</th>\n",
       "      <td>2DV2</td>\n",
       "      <td>B</td>\n",
       "      <td>MPGSDAGPRRRGVHEQRRNRMSNEAKCPFHQAAGNGTSNRDWWPNQ...</td>\n",
       "      <td>CCCCCCCCCCCCCCCCCCCCCCCCCCCCCCCCCCCCCCHHHHSTTS...</td>\n",
       "      <td>CCCCCCCCCCCCCCCCCCCCCCCCCCCCCCCCCCCCCCHHHHCCCC...</td>\n",
       "      <td>748</td>\n",
       "      <td>True</td>\n",
       "    </tr>\n",
       "    <tr>\n",
       "      <th>4</th>\n",
       "      <td>3J19</td>\n",
       "      <td>G</td>\n",
       "      <td>SRVAKAPVVVPAGVDVKINGQVITIKGKNGELTRTLNDAVEVKHAD...</td>\n",
       "      <td>CTTTTSCEECCTTCCCEESSSEEECCBTTBCCEEECCSSCEEEEET...</td>\n",
       "      <td>CCCCCCCEECCCCCCCEECCCEEECCECCECCEEECCCCCEEEEEC...</td>\n",
       "      <td>176</td>\n",
       "      <td>False</td>\n",
       "    </tr>\n",
       "  </tbody>\n",
       "</table>\n",
       "</div>"
      ],
      "text/plain": [
       "  pdb_id chain_code                                                seq  \\\n",
       "0   4JI3          G  MARRRRAEVRQLQPDLVYGDVLVTAFINKIMRDGKKNLAARIFYDA...   \n",
       "1   2QLP          F  MLLSDRDLRAEISSGRLGIDPFDDTLVQPSSIDVRLDCLFRVFNNT...   \n",
       "2   1E7V          A  AASEETLAFQRQLNALIGYDVTDVSNVHDDELEFTRRRLVTPRMAE...   \n",
       "3   2DV2          B  MPGSDAGPRRRGVHEQRRNRMSNEAKCPFHQAAGNGTSNRDWWPNQ...   \n",
       "4   3J19          G  SRVAKAPVVVPAGVDVKINGQVITIKGKNGELTRTLNDAVEVKHAD...   \n",
       "\n",
       "                                                sst8  \\\n",
       "0  CCCSSCCCCCCCCCCSSSCCHHHHHHHHHHCBTTBCHHHHHHHHHH...   \n",
       "1  CBCCHHHHHHHHHTTSSEEESCCGGGEETTEEEEEBCSCEEEECTT...   \n",
       "2  CCCSHHHHHHHHHHHHHTSCTTCCSSCSSSHHHHHHHHHHHHHHHH...   \n",
       "3  CCCCCCCCCCCCCCCCCCCCCCCCCCCCCCCCCCCCCCHHHHSTTS...   \n",
       "4  CTTTTSCEECCTTCCCEESSSEEECCBTTBCCEEECCSSCEEEEET...   \n",
       "\n",
       "                                                sst3  len  has_nonstd_aa  \n",
       "0  CCCCCCCCCCCCCCCCCCCCHHHHHHHHHHCECCECHHHHHHHHHH...  156          False  \n",
       "1  CECCHHHHHHHHHCCCCEEECCCHHHEECCEEEEEECCCEEEECCC...  161          False  \n",
       "2  CCCCHHHHHHHHHHHHHCCCCCCCCCCCCCHHHHHHHHHHHHHHHH...  961          False  \n",
       "3  CCCCCCCCCCCCCCCCCCCCCCCCCCCCCCCCCCCCCCHHHHCCCC...  748           True  \n",
       "4  CCCCCCCEECCCCCCCEECCCEEECCECCECCEEECCCCCEEEEEC...  176          False  "
      ]
     },
     "execution_count": 6,
     "metadata": {},
     "output_type": "execute_result"
    }
   ],
   "source": [
    "df = pd.read_csv(r\"C:\\Users\\alono\\OneDrive\\desktop\\studies\\computational biology\\Hackathon\\2018-06-06-ss.cleaned.csv\")\n",
    "df = df.sample(frac=1).reset_index(drop=True) # shuffle the data for uniform length distribution.\n",
    "df.head()"
   ]
  },
  {
   "cell_type": "code",
   "execution_count": null,
   "id": "562ea902",
   "metadata": {},
   "outputs": [],
   "source": []
  }
 ],
 "metadata": {
  "kernelspec": {
   "display_name": "Python 3 (ipykernel)",
   "language": "python",
   "name": "python3"
  },
  "language_info": {
   "codemirror_mode": {
    "name": "ipython",
    "version": 3
   },
   "file_extension": ".py",
   "mimetype": "text/x-python",
   "name": "python",
   "nbconvert_exporter": "python",
   "pygments_lexer": "ipython3",
   "version": "3.9.12"
  }
 },
 "nbformat": 4,
 "nbformat_minor": 5
}
